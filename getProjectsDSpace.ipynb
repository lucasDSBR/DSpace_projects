{
 "cells": [
  {
   "cell_type": "code",
   "execution_count": 2,
   "id": "746c70ea",
   "metadata": {},
   "outputs": [],
   "source": [
    "import requests\n",
    "import json\n",
    "import PyPDF2"
   ]
  },
  {
   "cell_type": "code",
   "execution_count": 3,
   "id": "5f631d35",
   "metadata": {},
   "outputs": [
    {
     "name": "stdout",
     "output_type": "stream",
     "text": [
      "Variaveis criadas...\n",
      "Salvando ids...\n",
      "arquivos endontrados...\n",
      "arquivo baixado\n"
     ]
    }
   ],
   "source": [
    "def getArquivesData():\n",
    "    file = requests.get(\"http://localhost:8888/rest/items\")\n",
    "    data = json.loads(file.text)\n",
    "    return data\n",
    "def arquives():\n",
    "    ids = []\n",
    "    textos = []\n",
    "    data = getArquivesData()\n",
    "    print(\"Variaveis criadas...\")\n",
    "    \n",
    "    for item in data:\n",
    "        ids.append(item['uuid'])\n",
    "        print(\"Salvando ids...\")\n",
    "    \n",
    "    for idsItem in ids:\n",
    "        file = requests.get('http://localhost:8888/rest/items/'+str(idsItem)+'/bitstreams')\n",
    "        dataItem = json.loads(file.text)\n",
    "        print(\"arquivos endontrados...\")\n",
    "        for itemPDF in dataItem:\n",
    "            if(itemPDF['mimeType'] == \"application/pdf\"):\n",
    "                download = requests.get('http://localhost:8888/rest/bitstreams/'+str(itemPDF['uuid'])+'/retrieve', allow_redirects=True)\n",
    "                open(str(itemPDF['uuid'])+'.pdf', 'wb').write(download.content)\n",
    "                print(\"arquivo baixado\")\n",
    "arquives()"
   ]
  }
 ],
 "metadata": {
  "kernelspec": {
   "display_name": "Python 3 (ipykernel)",
   "language": "python",
   "name": "python3"
  },
  "language_info": {
   "codemirror_mode": {
    "name": "ipython",
    "version": 3
   },
   "file_extension": ".py",
   "mimetype": "text/x-python",
   "name": "python",
   "nbconvert_exporter": "python",
   "pygments_lexer": "ipython3",
   "version": "3.9.7"
  }
 },
 "nbformat": 4,
 "nbformat_minor": 5
}
